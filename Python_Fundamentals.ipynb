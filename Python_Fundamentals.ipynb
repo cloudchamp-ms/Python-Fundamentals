{
  "nbformat": 4,
  "nbformat_minor": 0,
  "metadata": {
    "colab": {
      "provenance": [],
      "authorship_tag": "ABX9TyMhbtXr6fwJPazpTBPobVFk",
      "include_colab_link": true
    },
    "kernelspec": {
      "name": "python3",
      "display_name": "Python 3"
    },
    "language_info": {
      "name": "python"
    }
  },
  "cells": [
    {
      "cell_type": "markdown",
      "metadata": {
        "id": "view-in-github",
        "colab_type": "text"
      },
      "source": [
        "<a href=\"https://colab.research.google.com/github/cloudchamp-ms/Python-Fundamentals/blob/develop/Python_Fundamentals.ipynb\" target=\"_parent\"><img src=\"https://colab.research.google.com/assets/colab-badge.svg\" alt=\"Open In Colab\"/></a>"
      ]
    },
    {
      "cell_type": "markdown",
      "source": [
        "#This is initial file for Python Fundamentals Course @UT Austin - AI & ML program\n"
      ],
      "metadata": {
        "id": "HmfWL0yjnmMj"
      }
    },
    {
      "cell_type": "markdown",
      "source": [],
      "metadata": {
        "id": "Uw2xrJ6OocoD"
      }
    },
    {
      "cell_type": "code",
      "source": [],
      "metadata": {
        "id": "dBNx1pP1nvPD"
      },
      "execution_count": null,
      "outputs": []
    }
  ]
}